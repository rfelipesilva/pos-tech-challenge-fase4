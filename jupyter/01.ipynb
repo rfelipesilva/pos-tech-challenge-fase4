{
 "cells": [
  {
   "cell_type": "markdown",
   "id": "92d9704e-e23d-4e25-b9cc-2564ced15757",
   "metadata": {},
   "source": [
    "## Importing libraries"
   ]
  },
  {
   "cell_type": "code",
   "execution_count": 1,
   "id": "9b69b9f6-5b1f-484f-ae81-5d9f2f136117",
   "metadata": {},
   "outputs": [],
   "source": [
    "import pandas as pd"
   ]
  },
  {
   "cell_type": "markdown",
   "id": "b5f269ed-df62-466a-a889-c85a039c0325",
   "metadata": {},
   "source": [
    "## IPEA"
   ]
  },
  {
   "cell_type": "code",
   "execution_count": 2,
   "id": "b42bee6c-5090-4e31-ab22-ac181e41b764",
   "metadata": {},
   "outputs": [],
   "source": [
    "url_ipea = 'http://www.ipeadata.gov.br/ExibeSerie.aspx?module=m&serid=1650971490&oper=view'"
   ]
  },
  {
   "cell_type": "code",
   "execution_count": 20,
   "id": "0104cbc3-2f72-4438-9748-8622ba396656",
   "metadata": {},
   "outputs": [],
   "source": [
    "df_ipea_raw = pd.read_html(url_ipea)[2]"
   ]
  },
  {
   "cell_type": "code",
   "execution_count": 21,
   "id": "b92a2834-dfb4-4ef6-b376-038bd37b27dd",
   "metadata": {},
   "outputs": [
    {
     "data": {
      "text/html": [
       "<div>\n",
       "<style scoped>\n",
       "    .dataframe tbody tr th:only-of-type {\n",
       "        vertical-align: middle;\n",
       "    }\n",
       "\n",
       "    .dataframe tbody tr th {\n",
       "        vertical-align: top;\n",
       "    }\n",
       "\n",
       "    .dataframe thead th {\n",
       "        text-align: right;\n",
       "    }\n",
       "</style>\n",
       "<table border=\"1\" class=\"dataframe\">\n",
       "  <thead>\n",
       "    <tr style=\"text-align: right;\">\n",
       "      <th></th>\n",
       "      <th>Data</th>\n",
       "      <th>Preco - petroleo bruto - FOB</th>\n",
       "    </tr>\n",
       "  </thead>\n",
       "  <tbody>\n",
       "    <tr>\n",
       "      <th>1</th>\n",
       "      <td>08/01/2024</td>\n",
       "      <td>7547</td>\n",
       "    </tr>\n",
       "    <tr>\n",
       "      <th>2</th>\n",
       "      <td>05/01/2024</td>\n",
       "      <td>7831</td>\n",
       "    </tr>\n",
       "    <tr>\n",
       "      <th>3</th>\n",
       "      <td>04/01/2024</td>\n",
       "      <td>7579</td>\n",
       "    </tr>\n",
       "    <tr>\n",
       "      <th>4</th>\n",
       "      <td>03/01/2024</td>\n",
       "      <td>7718</td>\n",
       "    </tr>\n",
       "    <tr>\n",
       "      <th>5</th>\n",
       "      <td>02/01/2024</td>\n",
       "      <td>7624</td>\n",
       "    </tr>\n",
       "  </tbody>\n",
       "</table>\n",
       "</div>"
      ],
      "text/plain": [
       "         Data Preco - petroleo bruto - FOB\n",
       "1  08/01/2024                         7547\n",
       "2  05/01/2024                         7831\n",
       "3  04/01/2024                         7579\n",
       "4  03/01/2024                         7718\n",
       "5  02/01/2024                         7624"
      ]
     },
     "execution_count": 21,
     "metadata": {},
     "output_type": "execute_result"
    }
   ],
   "source": [
    "df_ipea_raw.columns = ['Data', 'Preco - petroleo bruto - FOB']\n",
    "df_ipea = df_ipea_raw[1:]\n",
    "df_ipea.head()"
   ]
  },
  {
   "cell_type": "code",
   "execution_count": 31,
   "id": "6c9bd1d3-8889-4425-9e2d-3a2647bfc320",
   "metadata": {},
   "outputs": [
    {
     "name": "stderr",
     "output_type": "stream",
     "text": [
      "C:\\Users\\refelipe\\AppData\\Local\\Temp\\ipykernel_21456\\477253630.py:1: SettingWithCopyWarning: \n",
      "A value is trying to be set on a copy of a slice from a DataFrame.\n",
      "Try using .loc[row_indexer,col_indexer] = value instead\n",
      "\n",
      "See the caveats in the documentation: https://pandas.pydata.org/pandas-docs/stable/user_guide/indexing.html#returning-a-view-versus-a-copy\n",
      "  df_ipea['Preco - petroleo'] = df_ipea['Preco - petroleo bruto - FOB'].str[:-2] + '.' + df_ipea['Preco - petroleo bruto - FOB'].str[-2:]\n",
      "C:\\Users\\refelipe\\AppData\\Local\\Temp\\ipykernel_21456\\477253630.py:2: SettingWithCopyWarning: \n",
      "A value is trying to be set on a copy of a slice from a DataFrame.\n",
      "Try using .loc[row_indexer,col_indexer] = value instead\n",
      "\n",
      "See the caveats in the documentation: https://pandas.pydata.org/pandas-docs/stable/user_guide/indexing.html#returning-a-view-versus-a-copy\n",
      "  df_ipea['Preco - petroleo'] = df_ipea['Preco - petroleo'].astype(float)\n"
     ]
    },
    {
     "data": {
      "text/html": [
       "<div>\n",
       "<style scoped>\n",
       "    .dataframe tbody tr th:only-of-type {\n",
       "        vertical-align: middle;\n",
       "    }\n",
       "\n",
       "    .dataframe tbody tr th {\n",
       "        vertical-align: top;\n",
       "    }\n",
       "\n",
       "    .dataframe thead th {\n",
       "        text-align: right;\n",
       "    }\n",
       "</style>\n",
       "<table border=\"1\" class=\"dataframe\">\n",
       "  <thead>\n",
       "    <tr style=\"text-align: right;\">\n",
       "      <th></th>\n",
       "      <th>Data</th>\n",
       "      <th>Preco - petroleo bruto - FOB</th>\n",
       "      <th>Preco - petroleo</th>\n",
       "    </tr>\n",
       "  </thead>\n",
       "  <tbody>\n",
       "    <tr>\n",
       "      <th>1</th>\n",
       "      <td>08/01/2024</td>\n",
       "      <td>7547</td>\n",
       "      <td>75.47</td>\n",
       "    </tr>\n",
       "    <tr>\n",
       "      <th>2</th>\n",
       "      <td>05/01/2024</td>\n",
       "      <td>7831</td>\n",
       "      <td>78.31</td>\n",
       "    </tr>\n",
       "    <tr>\n",
       "      <th>3</th>\n",
       "      <td>04/01/2024</td>\n",
       "      <td>7579</td>\n",
       "      <td>75.79</td>\n",
       "    </tr>\n",
       "    <tr>\n",
       "      <th>4</th>\n",
       "      <td>03/01/2024</td>\n",
       "      <td>7718</td>\n",
       "      <td>77.18</td>\n",
       "    </tr>\n",
       "    <tr>\n",
       "      <th>5</th>\n",
       "      <td>02/01/2024</td>\n",
       "      <td>7624</td>\n",
       "      <td>76.24</td>\n",
       "    </tr>\n",
       "  </tbody>\n",
       "</table>\n",
       "</div>"
      ],
      "text/plain": [
       "         Data Preco - petroleo bruto - FOB  Preco - petroleo\n",
       "1  08/01/2024                         7547             75.47\n",
       "2  05/01/2024                         7831             78.31\n",
       "3  04/01/2024                         7579             75.79\n",
       "4  03/01/2024                         7718             77.18\n",
       "5  02/01/2024                         7624             76.24"
      ]
     },
     "execution_count": 31,
     "metadata": {},
     "output_type": "execute_result"
    }
   ],
   "source": [
    "df_ipea['Preco - petroleo'] = df_ipea['Preco - petroleo bruto - FOB'].str[:-2] + '.' + df_ipea['Preco - petroleo bruto - FOB'].str[-2:]\n",
    "df_ipea['Preco - petroleo'] = df_ipea['Preco - petroleo'].astype(float)\n",
    "df_ipea.head()"
   ]
  },
  {
   "cell_type": "code",
   "execution_count": 33,
   "id": "15847a99-3228-48da-84dc-e04b38c7d65b",
   "metadata": {},
   "outputs": [
    {
     "data": {
      "text/html": [
       "<div>\n",
       "<style scoped>\n",
       "    .dataframe tbody tr th:only-of-type {\n",
       "        vertical-align: middle;\n",
       "    }\n",
       "\n",
       "    .dataframe tbody tr th {\n",
       "        vertical-align: top;\n",
       "    }\n",
       "\n",
       "    .dataframe thead th {\n",
       "        text-align: right;\n",
       "    }\n",
       "</style>\n",
       "<table border=\"1\" class=\"dataframe\">\n",
       "  <thead>\n",
       "    <tr style=\"text-align: right;\">\n",
       "      <th></th>\n",
       "      <th>Data</th>\n",
       "      <th>Preco - petroleo bruto - FOB</th>\n",
       "      <th>Preco - petroleo</th>\n",
       "    </tr>\n",
       "  </thead>\n",
       "  <tbody>\n",
       "    <tr>\n",
       "      <th>345</th>\n",
       "      <td>26/08/2022</td>\n",
       "      <td>10113</td>\n",
       "      <td>101.13</td>\n",
       "    </tr>\n",
       "    <tr>\n",
       "      <th>355</th>\n",
       "      <td>12/08/2022</td>\n",
       "      <td>10370</td>\n",
       "      <td>103.70</td>\n",
       "    </tr>\n",
       "    <tr>\n",
       "      <th>356</th>\n",
       "      <td>11/08/2022</td>\n",
       "      <td>10719</td>\n",
       "      <td>107.19</td>\n",
       "    </tr>\n",
       "    <tr>\n",
       "      <th>357</th>\n",
       "      <td>10/08/2022</td>\n",
       "      <td>10506</td>\n",
       "      <td>105.06</td>\n",
       "    </tr>\n",
       "    <tr>\n",
       "      <th>358</th>\n",
       "      <td>09/08/2022</td>\n",
       "      <td>10381</td>\n",
       "      <td>103.81</td>\n",
       "    </tr>\n",
       "  </tbody>\n",
       "</table>\n",
       "</div>"
      ],
      "text/plain": [
       "           Data Preco - petroleo bruto - FOB  Preco - petroleo\n",
       "345  26/08/2022                        10113            101.13\n",
       "355  12/08/2022                        10370            103.70\n",
       "356  11/08/2022                        10719            107.19\n",
       "357  10/08/2022                        10506            105.06\n",
       "358  09/08/2022                        10381            103.81"
      ]
     },
     "execution_count": 33,
     "metadata": {},
     "output_type": "execute_result"
    }
   ],
   "source": [
    "df_ipea[df_ipea['Preco - petroleo'] > 100].head()"
   ]
  },
  {
   "cell_type": "code",
   "execution_count": 41,
   "id": "41267d88-f6d4-492b-a466-eeb0b90d0b8d",
   "metadata": {},
   "outputs": [],
   "source": [
    "df_ipea.to_excel('../data/petroleo-brent.xlsx', index=False)"
   ]
  },
  {
   "cell_type": "markdown",
   "id": "59dbabbe-f074-462a-9ec6-a3dcf03b22ce",
   "metadata": {},
   "source": [
    "## Períodos - Juros / Inflação / PIB / Sanções (Economia) BRA"
   ]
  },
  {
   "cell_type": "markdown",
   "id": "8c9765f0-1157-437c-a393-864972e80564",
   "metadata": {},
   "source": [
    "## Períodos - Juros? / Inflação! / PIB! / Sanções? EUA"
   ]
  },
  {
   "cell_type": "markdown",
   "id": "7f2fbf70-d07a-412c-b1f0-1139cfe89aad",
   "metadata": {},
   "source": [
    "## Períodos - Juros / Inflação / PIB / Sanções (Economia) China?"
   ]
  },
  {
   "cell_type": "markdown",
   "id": "d2838234-132b-4ab4-81b9-51201dde3e93",
   "metadata": {},
   "source": [
    "## Cortes arabia/Russia"
   ]
  },
  {
   "cell_type": "markdown",
   "id": "3a338d71-cc4d-4998-949a-a3fc5a18a53c",
   "metadata": {},
   "source": [
    "## Pais relacionado / Produtor de pretróleo em Guerra\n",
    "- Russia / Ucrania\n",
    "- Israel / Palestina?"
   ]
  }
 ],
 "metadata": {
  "kernelspec": {
   "display_name": "Python 3 (ipykernel)",
   "language": "python",
   "name": "python3"
  },
  "language_info": {
   "codemirror_mode": {
    "name": "ipython",
    "version": 3
   },
   "file_extension": ".py",
   "mimetype": "text/x-python",
   "name": "python",
   "nbconvert_exporter": "python",
   "pygments_lexer": "ipython3",
   "version": "3.10.4"
  }
 },
 "nbformat": 4,
 "nbformat_minor": 5
}
